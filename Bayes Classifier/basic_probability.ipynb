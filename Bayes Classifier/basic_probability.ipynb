{
 "cells": [
  {
   "cell_type": "code",
   "execution_count": 1,
   "id": "secret-paste",
   "metadata": {},
   "outputs": [],
   "source": [
    "from scipy.stats import norm"
   ]
  },
  {
   "cell_type": "markdown",
   "id": "surface-sensitivity",
   "metadata": {},
   "source": [
    "#### Calculate the probability of a person that is 65 in is a Male or a Female:"
   ]
  },
  {
   "cell_type": "markdown",
   "id": "historical-situation",
   "metadata": {},
   "source": [
    "- Male Normal Distribution Curve: N(μ=70, σ=4)\n",
    "\n",
    "- Female Normal Distribution Curve: N(μ=65, σ=3.5)"
   ]
  },
  {
   "cell_type": "markdown",
   "id": "sitting-campbell",
   "metadata": {},
   "source": [
    "#### P(x=65 | y=Male)"
   ]
  },
  {
   "cell_type": "code",
   "execution_count": 2,
   "id": "veterinary-bench",
   "metadata": {},
   "outputs": [
    {
     "data": {
      "text/plain": [
       "0.04566227134725548"
      ]
     },
     "execution_count": 2,
     "metadata": {},
     "output_type": "execute_result"
    }
   ],
   "source": [
    "p_65_m = norm.pdf(x=65, loc=70, scale=4)\n",
    "p_65_m"
   ]
  },
  {
   "cell_type": "markdown",
   "id": "vertical-producer",
   "metadata": {},
   "source": [
    "#### P(x=65 | y=Female)"
   ]
  },
  {
   "cell_type": "code",
   "execution_count": 3,
   "id": "medical-amsterdam",
   "metadata": {},
   "outputs": [
    {
     "data": {
      "text/plain": [
       "0.11398350868612363"
      ]
     },
     "execution_count": 3,
     "metadata": {},
     "output_type": "execute_result"
    }
   ],
   "source": [
    "p_65_f = norm.pdf(x=65, loc=65, scale=3.5)\n",
    "p_65_f"
   ]
  },
  {
   "cell_type": "markdown",
   "id": "published-lighting",
   "metadata": {},
   "source": [
    "#### P(y=Male) = P(y=Female) = 0.5"
   ]
  },
  {
   "cell_type": "code",
   "execution_count": 4,
   "id": "familiar-murder",
   "metadata": {},
   "outputs": [],
   "source": [
    "p_m_f = 0.5"
   ]
  },
  {
   "cell_type": "markdown",
   "id": "solid-explorer",
   "metadata": {},
   "source": [
    "#### P(x=65) = P(x=65 | y=Male)*P(y=Male) + P(x=65 | y=Female)*P(y=Female)"
   ]
  },
  {
   "cell_type": "code",
   "execution_count": 5,
   "id": "distinguished-diamond",
   "metadata": {},
   "outputs": [
    {
     "data": {
      "text/plain": [
       "0.07982289001668955"
      ]
     },
     "execution_count": 5,
     "metadata": {},
     "output_type": "execute_result"
    }
   ],
   "source": [
    "p_65 = p_65_m*p_m_f + p_65_f*p_m_f\n",
    "p_65"
   ]
  },
  {
   "cell_type": "markdown",
   "id": "derived-notification",
   "metadata": {},
   "source": [
    "#### P(y=Male | x=65) = P(x=65 | y=Male)*P(y=Male)/P(x=65)"
   ]
  },
  {
   "cell_type": "code",
   "execution_count": 6,
   "id": "continuous-passenger",
   "metadata": {},
   "outputs": [
    {
     "data": {
      "text/plain": [
       "0.2860224137318776"
      ]
     },
     "execution_count": 6,
     "metadata": {},
     "output_type": "execute_result"
    }
   ],
   "source": [
    "p_m_65 = p_65_m * p_m_f / p_65\n",
    "p_m_65"
   ]
  },
  {
   "cell_type": "markdown",
   "id": "corporate-roulette",
   "metadata": {},
   "source": [
    "#### P(y=Female | x=65) = P(x=65 | y=Female)*P(y=Female)/P(x=65)"
   ]
  },
  {
   "cell_type": "code",
   "execution_count": 7,
   "id": "french-netherlands",
   "metadata": {},
   "outputs": [
    {
     "data": {
      "text/plain": [
       "0.7139775862681225"
      ]
     },
     "execution_count": 7,
     "metadata": {},
     "output_type": "execute_result"
    }
   ],
   "source": [
    "p_f_65 = p_65_f * p_m_f / p_65\n",
    "p_f_65"
   ]
  },
  {
   "cell_type": "markdown",
   "id": "frequent-contemporary",
   "metadata": {},
   "source": [
    "Therefore, since the probabilitiy of a person being female with 65 in is 71.4% is greater than the probability of a person being male with 65 in of 28.6%, than we may conclude that the person is a female."
   ]
  },
  {
   "cell_type": "code",
   "execution_count": null,
   "id": "every-quilt",
   "metadata": {},
   "outputs": [],
   "source": []
  }
 ],
 "metadata": {
  "kernelspec": {
   "display_name": "Python 3",
   "language": "python",
   "name": "python3"
  },
  "language_info": {
   "codemirror_mode": {
    "name": "ipython",
    "version": 3
   },
   "file_extension": ".py",
   "mimetype": "text/x-python",
   "name": "python",
   "nbconvert_exporter": "python",
   "pygments_lexer": "ipython3",
   "version": "3.8.6"
  }
 },
 "nbformat": 4,
 "nbformat_minor": 5
}
